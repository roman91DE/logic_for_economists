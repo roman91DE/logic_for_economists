{
 "cells": [
  {
   "cell_type": "markdown",
   "id": "c9d16ed9",
   "metadata": {},
   "source": [
    "# Predicate Logic and Set Notations"
   ]
  },
  {
   "cell_type": "code",
   "execution_count": 1,
   "id": "152f8bd8",
   "metadata": {},
   "outputs": [],
   "source": [
    "S = {1, 2, 3}\n",
    "R = {2, 3, 4}"
   ]
  },
  {
   "cell_type": "code",
   "execution_count": 2,
   "id": "4f4c193c",
   "metadata": {},
   "outputs": [
    {
     "data": {
      "text/plain": [
       "True"
      ]
     },
     "execution_count": 2,
     "metadata": {},
     "output_type": "execute_result"
    }
   ],
   "source": [
    "{1,2}.issubset(S)"
   ]
  },
  {
   "cell_type": "code",
   "execution_count": 3,
   "id": "8d139000",
   "metadata": {},
   "outputs": [
    {
     "data": {
      "text/plain": [
       "{1, 2, 3, 4}"
      ]
     },
     "execution_count": 3,
     "metadata": {},
     "output_type": "execute_result"
    }
   ],
   "source": [
    "assert R.union(S) ==  S.union(R)\n",
    "S.union(R)"
   ]
  },
  {
   "cell_type": "code",
   "execution_count": 4,
   "id": "bb84921d",
   "metadata": {},
   "outputs": [
    {
     "data": {
      "text/plain": [
       "({4}, {1})"
      ]
     },
     "execution_count": 4,
     "metadata": {},
     "output_type": "execute_result"
    }
   ],
   "source": [
    "R.difference(S), S.difference(R)"
   ]
  },
  {
   "cell_type": "code",
   "execution_count": 5,
   "id": "ef50c49d",
   "metadata": {},
   "outputs": [
    {
     "data": {
      "text/plain": [
       "{2, 3}"
      ]
     },
     "execution_count": 5,
     "metadata": {},
     "output_type": "execute_result"
    }
   ],
   "source": [
    "assert R.intersection(S) ==  S.intersection(R)\n",
    "S.intersection(R)"
   ]
  }
 ],
 "metadata": {
  "kernelspec": {
   "display_name": ".venv",
   "language": "python",
   "name": "python3"
  },
  "language_info": {
   "codemirror_mode": {
    "name": "ipython",
    "version": 3
   },
   "file_extension": ".py",
   "mimetype": "text/x-python",
   "name": "python",
   "nbconvert_exporter": "python",
   "pygments_lexer": "ipython3",
   "version": "3.13.3"
  }
 },
 "nbformat": 4,
 "nbformat_minor": 5
}

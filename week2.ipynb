{
 "cells": [
  {
   "cell_type": "markdown",
   "id": "a4814d0e",
   "metadata": {},
   "source": [
    "# Propositional Logic Course\n",
    "\n",
    "Week 2 - Logic for Economists"
   ]
  },
  {
   "cell_type": "code",
   "execution_count": 1,
   "id": "dc538312",
   "metadata": {},
   "outputs": [],
   "source": [
    "import sympy\n",
    "from sympy import symbols, simplify, And, Not, Or, Xor, Nor, Implies, satisfiable\n",
    "from sympy.logic.boolalg import truth_table\n",
    "\n",
    "sympy.init_printing(use_unicode=True)"
   ]
  },
  {
   "cell_type": "code",
   "execution_count": 2,
   "id": "fc3e0813",
   "metadata": {},
   "outputs": [],
   "source": [
    "p, q, r = symbols(\"p,q,r\")"
   ]
  },
  {
   "cell_type": "code",
   "execution_count": 3,
   "id": "ad5fd2db",
   "metadata": {},
   "outputs": [
    {
     "data": {
      "text/latex": [
       "$\\displaystyle \\neg p$"
      ],
      "text/plain": [
       "¬p"
      ]
     },
     "execution_count": 3,
     "metadata": {},
     "output_type": "execute_result"
    }
   ],
   "source": [
    "# What do we know about P if we know that P implies Q and that Q is false?\n",
    "\n",
    "expr = Implies(p, q)\n",
    "expr.subs({q: False})"
   ]
  },
  {
   "cell_type": "code",
   "execution_count": 4,
   "id": "acaf6e7b",
   "metadata": {},
   "outputs": [
    {
     "name": "stdout",
     "output_type": "stream",
     "text": [
      "Original: ~(p | q | r)\n",
      "Simplified: ~p & ~q & ~r\n",
      "Truth value when all are False: True\n"
     ]
    }
   ],
   "source": [
    "# If P, Q, and R are three propositions, and we know that \"not(P or Q or R)\" is a true proposition, \n",
    "# what do we know about the propositions P, Q and R? \n",
    "# (Take some time to think this one through.)\n",
    "\n",
    "expr = Not(Or(p, q, r))\n",
    "\n",
    "print(\"Original:\", expr)\n",
    "print(\"Simplified:\", simplify(expr))\n",
    "\n",
    "truth_val = expr.subs({p: False, q: False, r: False})\n",
    "print(\"Truth value when all are False:\", truth_val)"
   ]
  },
  {
   "cell_type": "code",
   "execution_count": 5,
   "id": "cc7f0e55",
   "metadata": {},
   "outputs": [
    {
     "name": "stdout",
     "output_type": "stream",
     "text": [
      "p & ~(p | q)\n",
      "p q e\n",
      "0 0 False\n",
      "0 1 False\n",
      "1 0 False\n",
      "1 1 False\n",
      "False\n"
     ]
    }
   ],
   "source": [
    "# Which of the following propositions is equivalent to (P and not(P or Q))?\n",
    "\n",
    "expr = And(\n",
    "    p,\n",
    "    Not(\n",
    "        Or(p, q)\n",
    "    )\n",
    ")\n",
    "\n",
    "print(expr)\n",
    "\n",
    "\n",
    "print(\"p q e\")\n",
    "for pq, e in truth_table(expr, [p, q]):\n",
    "    print(*pq, e)\n",
    "\n",
    "\n",
    "print(expr.simplify())\n"
   ]
  },
  {
   "cell_type": "code",
   "execution_count": 6,
   "id": "a386f8a3",
   "metadata": {},
   "outputs": [
    {
     "name": "stdout",
     "output_type": "stream",
     "text": [
      "(p & q) | (~p & ~q)\n",
      "p q expr\n",
      "0 0 True\n",
      "0 1 False\n",
      "1 0 False\n",
      "1 1 True\n"
     ]
    }
   ],
   "source": [
    "# Tiger and Lady\n",
    "\n",
    "# p: At least one Door contains a Lady\n",
    "# q: A Tiger is in the other room\n",
    "\n",
    "p, q = symbols(\"p,q\")\n",
    "\n",
    "# Either p and q are True or p and q are False\n",
    "expr = Or(\n",
    "    And(p, q),\n",
    "    And(Not(p), Not(q))\n",
    ")\n",
    "\n",
    "print(expr.simplify())\n",
    "\n",
    "print(\"p q expr\")\n",
    "for pq, e in truth_table(expr, [p, q]):\n",
    "    print(*pq, e)\n",
    "\n",
    "# if both are True -> Lady in Room q\n",
    "# if both are false -> P has no Tiger (and no Lady)\n",
    "\n"
   ]
  },
  {
   "cell_type": "code",
   "execution_count": 7,
   "id": "20f00bd6",
   "metadata": {},
   "outputs": [],
   "source": [
    "# Two rooms, each containing a single occupant, which is either a lady or a tiger. The signs on the door read: \n",
    "\n",
    "# (1) Either there is a tiger in this room or a lady in the other room\n",
    "\n",
    "# (2) A lady is in the other room\n",
    "\n",
    "\n",
    "t1, t2, l1, l2 = symbols(\"t1, t2, l1, l2\")\n",
    "s, s1, s2 = symbols(\"s, s1, s2\")\n",
    "\n",
    "# Two rooms, each containing a single occupant, which is either a lady or a tiger\n",
    "s = And(\n",
    "    Xor(t1, l1), Xor(t2, l2)\n",
    " ) \n",
    "\n",
    "# (1) Either there is a tiger in this room or a lady in the other room\n",
    "s1 = t1 | l2 \n",
    "s2 = l1"
   ]
  },
  {
   "cell_type": "code",
   "execution_count": 8,
   "id": "e3965dd5",
   "metadata": {},
   "outputs": [
    {
     "data": {
      "text/plain": [
       "{l1: True, t2: True, l2: False, t1: False}"
      ]
     },
     "execution_count": 8,
     "metadata": {},
     "output_type": "execute_result"
    }
   ],
   "source": [
    "# If the first sign is false, what is the situation?\n",
    "\n",
    "# s is True\n",
    "# s1 is False\n",
    "\n",
    "expr = And(s, Not(s1))\n",
    "satisfiable(expr)"
   ]
  },
  {
   "cell_type": "code",
   "execution_count": 9,
   "id": "eb244639",
   "metadata": {},
   "outputs": [
    {
     "data": {
      "text/plain": [
       "False"
      ]
     },
     "execution_count": 9,
     "metadata": {},
     "output_type": "execute_result"
    }
   ],
   "source": [
    "# Same situation as in the previous question: can both signs be false?\n",
    "\n",
    "# s is True\n",
    "# s1 and s2 are False\n",
    "\n",
    "expr = And(s, Not(s1), Not(s2))\n",
    "satisfiable(expr)"
   ]
  },
  {
   "cell_type": "code",
   "execution_count": 10,
   "id": "0520e0fd",
   "metadata": {},
   "outputs": [
    {
     "data": {
      "text/plain": [
       "{t1: True, l2: True, t2: False, l1: False}"
      ]
     },
     "execution_count": 10,
     "metadata": {},
     "output_type": "execute_result"
    }
   ],
   "source": [
    "# Same situation as in question 1. If we know that the first sign is true and the second is false, which door should you open?\n",
    "\n",
    "# s1 is True\n",
    "# s2 is False\n",
    "\n",
    "expr = And(s, s1, Not(s2))  \n",
    "satisfiable(expr, all_models=False)\n"
   ]
  },
  {
   "cell_type": "code",
   "execution_count": 11,
   "id": "bc8bb6c2",
   "metadata": {},
   "outputs": [
    {
     "name": "stdout",
     "output_type": "stream",
     "text": [
      "{t1: True, l2: True, t2: False, l1: False}\n"
     ]
    }
   ],
   "source": [
    "# Two rooms, either occupied by a lady or a tiger. The signs on the door read: \n",
    "\n",
    "# (1) Both rooms contain ladies\n",
    "\n",
    "# (2) Both rooms contain ladies\n",
    "\n",
    "# If the sign on room 1 is true if it contains a lady and false if it contains a tiger, \n",
    "# while the sign on room 2 is false if it contains a lady and true if it contains a tiger, what is the situation?\n",
    "\n",
    "core, s1, s2 , l1, l2, t1, t2, s1c, s2c = symbols(\"core,s1,s2,l1,l2,t1,t2,s1c,s2c\")\n",
    "\n",
    "core = And(Xor(t1, l1), Xor(t2, l2))\n",
    "\n",
    "s1 = And(l1, l2)\n",
    "s2 = And(l1, l2)\n",
    "\n",
    "s1c = Xor(\n",
    "    And(s1, l1),\n",
    "    And(Not(s1), t1)\n",
    ")\n",
    "\n",
    "s2c = Xor(\n",
    "    And(Not(s2), l2),\n",
    "    And(s2, t2)\n",
    ")\n",
    "\n",
    "expr = And(core, s1c, s2c)\n",
    "for m in satisfiable(expr, all_models=True):\n",
    "    print(m)"
   ]
  },
  {
   "cell_type": "code",
   "execution_count": 12,
   "id": "e75679d1",
   "metadata": {},
   "outputs": [
    {
     "name": "stdout",
     "output_type": "stream",
     "text": [
      "{l1: True, l2: True, t2: False, t1: False}\n",
      "{t1: True, l2: True, t2: False, l1: False}\n"
     ]
    }
   ],
   "source": [
    "# Question 5\n",
    "# Same rules as in the previous question. Now the signs say\n",
    "\n",
    "# (1) There is a lady in the other room\n",
    "\n",
    "# (2) It makes no difference which room you pick\n",
    "\n",
    "# Which door should you open?\n",
    "\n",
    "core, s1, s2 , l1, l2, t1, t2 = symbols(\"core,s1,s2,l1,l2,t1,t2\")\n",
    "\n",
    "core = And(Xor(t1, l1), Xor(t2, l2))\n",
    "\n",
    "s1 = l2\n",
    "s2 = And(Xor(l1, t1), Xor(l2, t2))\n",
    "\n",
    "\n",
    "expr = And(\n",
    "    core,\n",
    "    s1,\n",
    "    s2\n",
    ")\n",
    "\n",
    "for m in satisfiable(expr, all_models=True):\n",
    "    print(m)"
   ]
  },
  {
   "cell_type": "code",
   "execution_count": 13,
   "id": "fb321fd4",
   "metadata": {},
   "outputs": [
    {
     "name": "stdout",
     "output_type": "stream",
     "text": [
      "{t1: True, l2: True, t2: False, l1: False}\n"
     ]
    }
   ],
   "source": [
    "# video lesson\n",
    "\n",
    "core, s1, s2 = symbols(\"core s1 s2\")\n",
    "t1, l1, t2, l2 = symbols(\"t1 l1 t2 l2\")\n",
    "\n",
    "core = And(\n",
    "    Xor(l1, t1),\n",
    "    Xor(l2, t2)\n",
    ") \n",
    "\n",
    "s1 = Or(l1, l2)\n",
    "s2 = t1\n",
    "\n",
    "expr = And(\n",
    "    core,\n",
    "      Xor(\n",
    "        And(s1, s2),\n",
    "        Nor(s1, s2)\n",
    "    )\n",
    ")\n",
    "for m in satisfiable(expr, all_models=True):\n",
    "    print(m)"
   ]
  }
 ],
 "metadata": {
  "kernelspec": {
   "display_name": ".venv",
   "language": "python",
   "name": "python3"
  },
  "language_info": {
   "codemirror_mode": {
    "name": "ipython",
    "version": 3
   },
   "file_extension": ".py",
   "mimetype": "text/x-python",
   "name": "python",
   "nbconvert_exporter": "python",
   "pygments_lexer": "ipython3",
   "version": "3.13.3"
  }
 },
 "nbformat": 4,
 "nbformat_minor": 5
}
